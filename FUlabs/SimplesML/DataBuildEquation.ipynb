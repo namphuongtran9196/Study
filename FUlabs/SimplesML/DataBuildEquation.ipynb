{
 "cells": [
  {
   "cell_type": "code",
   "execution_count": 4,
   "metadata": {},
   "outputs": [],
   "source": [
    "import numpy as np\n",
    "import random\n",
    "import json"
   ]
  },
  {
   "cell_type": "code",
   "execution_count": 2,
   "metadata": {},
   "outputs": [],
   "source": [
    "def equation(x):\n",
    "    return 2 * x **2 + 4*x + 5"
   ]
  },
  {
   "cell_type": "code",
   "execution_count": 3,
   "metadata": {},
   "outputs": [],
   "source": [
    "dataset = {}\n",
    "data = range(-5000, 5000)\n",
    "while len(dataset) < 1000:\n",
    "    x = random.choice(data)\n",
    "    y = equation(x)\n",
    "    dataset[x] = y"
   ]
  },
  {
   "cell_type": "code",
   "execution_count": null,
   "metadata": {},
   "outputs": [],
   "source": [
    "json.dump(dataset, open('dataset_v1.json', 'w'))"
   ]
  },
  {
   "cell_type": "code",
   "execution_count": 9,
   "metadata": {},
   "outputs": [],
   "source": [
    "def equation2(x1,x2):\n",
    "    y1 = 2*x1 + 4*x2 + 9\n",
    "    y2 = 4*x1 + 3*x2 + 5\n",
    "    return (y1 + y2) / 2"
   ]
  },
  {
   "cell_type": "code",
   "execution_count": 13,
   "metadata": {},
   "outputs": [],
   "source": [
    "dataset = {\"x\":[], \"y\": []}\n",
    "data = range(-5000, 5000)\n",
    "while len(dataset[\"x\"]) < 1000:\n",
    "    x1 = random.choice(data)\n",
    "    x2 = x1 + 100\n",
    "    y = equation2(x1, x2)\n",
    "    dataset[\"x\"].append([x1, x2])\n",
    "    dataset[\"y\"].append(y) "
   ]
  },
  {
   "cell_type": "code",
   "execution_count": 14,
   "metadata": {},
   "outputs": [],
   "source": [
    "json.dump(dataset, open('dataset_v2.json', 'w'))"
   ]
  }
 ],
 "metadata": {
  "kernelspec": {
   "display_name": "FULabs",
   "language": "python",
   "name": "python3"
  },
  "language_info": {
   "codemirror_mode": {
    "name": "ipython",
    "version": 3
   },
   "file_extension": ".py",
   "mimetype": "text/x-python",
   "name": "python",
   "nbconvert_exporter": "python",
   "pygments_lexer": "ipython3",
   "version": "3.7.12 | packaged by conda-forge | (default, Oct 26 2021, 06:08:21) \n[GCC 9.4.0]"
  },
  "orig_nbformat": 4,
  "vscode": {
   "interpreter": {
    "hash": "51247d44b39bf149fff136edb48516d1b513897f9bf571a601174ae447a18601"
   }
  }
 },
 "nbformat": 4,
 "nbformat_minor": 2
}
